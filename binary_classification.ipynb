{
 "cells": [
  {
   "cell_type": "code",
   "execution_count": 1,
   "metadata": {
    "collapsed": true,
    "ExecuteTime": {
     "end_time": "2024-10-21T08:31:30.356563100Z",
     "start_time": "2024-10-21T08:31:28.318664500Z"
    }
   },
   "outputs": [],
   "source": [
    "import matplotlib.pyplot as plt\n",
    "import numpy as np\n",
    "import pandas as pd"
   ]
  },
  {
   "cell_type": "code",
   "execution_count": 2,
   "outputs": [],
   "source": [
    "from sklearn.datasets import make_classification\n",
    "\n",
    "x, y = make_classification(\n",
    "    n_samples=100,\n",
    "    n_features=1,\n",
    "    n_classes=2,\n",
    "    n_clusters_per_class=1,\n",
    "    n_informative=1,\n",
    "    n_repeated=0,\n",
    "    n_redundant=0,\n",
    "    random_state=42\n",
    ")"
   ],
   "metadata": {
    "collapsed": false,
    "ExecuteTime": {
     "end_time": "2024-10-21T08:37:36.325581200Z",
     "start_time": "2024-10-21T08:37:31.692072600Z"
    }
   }
  },
  {
   "cell_type": "code",
   "execution_count": 4,
   "outputs": [
    {
     "data": {
      "text/plain": "array([0, 0, 1, 0, 0, 1, 1, 0, 1, 1, 1, 1, 1, 1, 1, 1, 1, 0, 0, 1, 1, 0,\n       1, 1, 1, 1, 1, 1, 1, 0, 0, 0, 1, 1, 0, 0, 0, 1, 0, 0, 0, 0, 0, 0,\n       0, 0, 0, 1, 1, 1, 1, 1, 0, 0, 1, 1, 0, 0, 1, 0, 1, 0, 0, 0, 0, 1,\n       0, 0, 1, 1, 1, 0, 1, 1, 0, 0, 1, 0, 0, 1, 1, 1, 1, 0, 0, 0, 0, 0,\n       0, 0, 0, 1, 0, 0, 0, 0, 1, 1, 1, 1])"
     },
     "execution_count": 4,
     "metadata": {},
     "output_type": "execute_result"
    }
   ],
   "source": [
    "y"
   ],
   "metadata": {
    "collapsed": false,
    "ExecuteTime": {
     "end_time": "2024-10-21T08:39:00.320064Z",
     "start_time": "2024-10-21T08:39:00.287071200Z"
    }
   }
  },
  {
   "cell_type": "code",
   "execution_count": 3,
   "outputs": [
    {
     "data": {
      "text/plain": "<Figure size 640x480 with 1 Axes>",
      "image/png": "[encoded data removed]"
     },
     "metadata": {},
     "output_type": "display_data"
    }
   ],
   "source": [
    "plt.scatter(x, y, c=y, cmap=\"coolwarm\")\n",
    "plt.show()"
   ],
   "metadata": {
    "collapsed": false,
    "ExecuteTime": {
     "end_time": "2024-10-21T08:38:52.859632800Z",
     "start_time": "2024-10-21T08:38:52.606534700Z"
    }
   }
  },
  {
   "cell_type": "code",
   "execution_count": 6,
   "outputs": [
    {
     "data": {
      "text/plain": "LogisticRegression(max_iter=50)",
      "text/html": "<style>#sk-container-id-2 {\n  /* Definition of color scheme common for light and dark mode */\n  --sklearn-color-text: black;\n  --sklearn-color-line: gray;\n  /* Definition of color scheme for unfitted estimators */\n  --sklearn-color-unfitted-level-0: #fff5e6;\n  --sklearn-color-unfitted-level-1: #f6e4d2;\n  --sklearn-color-unfitted-level-2: #ffe0b3;\n  --sklearn-color-unfitted-level-3: chocolate;\n  /* Definition of color scheme for fitted estimators */\n  --sklearn-color-fitted-level-0: #f0f8ff;\n  --sklearn-color-fitted-level-1: #d4ebff;\n  --sklearn-color-fitted-level-2: #b3dbfd;\n  --sklearn-color-fitted-level-3: cornflowerblue;\n\n  /* Specific color for light theme */\n  --sklearn-color-text-on-default-background: var(--sg-text-color, var(--theme-code-foreground, var(--jp-content-font-color1, black)));\n  --sklearn-color-background: var(--sg-background-color, var(--theme-background, var(--jp-layout-color0, white)));\n  --sklearn-color-border-box: var(--sg-text-color, var(--theme-code-foreground, var(--jp-content-font-color1, black)));\n  --sklearn-color-icon: #696969;\n\n  @media (prefers-color-scheme: dark) {\n    /* Redefinition of color scheme for dark theme */\n    --sklearn-color-text-on-default-background: var(--sg-text-color, var(--theme-code-foreground, var(--jp-content-font-color1, white)));\n    --sklearn-color-background: var(--sg-background-color, var(--theme-background, var(--jp-layout-color0, #111)));\n    --sklearn-color-border-box: var(--sg-text-color, var(--theme-code-foreground, var(--jp-content-font-color1, white)));\n    --sklearn-color-icon: #878787;\n  }\n}\n\n#sk-container-id-2 {\n  color: var(--sklearn-color-text);\n}\n\n#sk-container-id-2 pre {\n  padding: 0;\n}\n\n#sk-container-id-2 input.sk-hidden--visually {\n  border: 0;\n  clip: rect(1px 1px 1px 1px);\n  clip: rect(1px, 1px, 1px, 1px);\n  height: 1px;\n  margin: -1px;\n  overflow: hidden;\n  padding: 0;\n  position: absolute;\n  width: 1px;\n}\n\n#sk-container-id-2 div.sk-dashed-wrapped {\n  border: 1px dashed var(--sklearn-color-line);\n  margin: 0 0.4em 0.5em 0.4em;\n  box-sizing: border-box;\n  padding-bottom: 0.4em;\n  background-color: var(--sklearn-color-background);\n}\n\n#sk-container-id-2 div.sk-container {\n  /* jupyter's `normalize.less` sets `[hidden] { display: none; }`\n     but bootstrap.min.css set `[hidden] { display: none !important; }`\n     so we also need the `!important` here to be able to override the\n     default hidden behavior on the sphinx rendered scikit-learn.org.\n     See: https://github.com/scikit-learn/scikit-learn/issues/21755 */\n  display: inline-block !important;\n  position: relative;\n}\n\n#sk-container-id-2 div.sk-text-repr-fallback {\n  display: none;\n}\n\ndiv.sk-parallel-item,\ndiv.sk-serial,\ndiv.sk-item {\n  /* draw centered vertical line to link estimators */\n  background-image: linear-gradient(var(--sklearn-color-text-on-default-background), var(--sklearn-color-text-on-default-background));\n  background-size: 2px 100%;\n  background-repeat: no-repeat;\n  background-position: center center;\n}\n\n/* Parallel-specific style estimator block */\n\n#sk-container-id-2 div.sk-parallel-item::after {\n  content: \"\";\n  width: 100%;\n  border-bottom: 2px solid var(--sklearn-color-text-on-default-background);\n  flex-grow: 1;\n}\n\n#sk-container-id-2 div.sk-parallel {\n  display: flex;\n  align-items: stretch;\n  justify-content: center;\n  background-color: var(--sklearn-color-background);\n  position: relative;\n}\n\n#sk-container-id-2 div.sk-parallel-item {\n  display: flex;\n  flex-direction: column;\n}\n\n#sk-container-id-2 div.sk-parallel-item:first-child::after {\n  align-self: flex-end;\n  width: 50%;\n}\n\n#sk-container-id-2 div.sk-parallel-item:last-child::after {\n  align-self: flex-start;\n  width: 50%;\n}\n\n#sk-container-id-2 div.sk-parallel-item:only-child::after {\n  width: 0;\n}\n\n/* Serial-specific style estimator block */\n\n#sk-container-id-2 div.sk-serial {\n  display: flex;\n  flex-direction: column;\n  align-items: center;\n  background-color: var(--sklearn-color-background);\n  padding-right: 1em;\n  padding-left: 1em;\n}\n\n\n/* Toggleable style: style used for estimator/Pipeline/ColumnTransformer box that is\nclickable and can be expanded/collapsed.\n- Pipeline and ColumnTransformer use this feature and define the default style\n- Estimators will overwrite some part of the style using the `sk-estimator` class\n*/\n\n/* Pipeline and ColumnTransformer style (default) */\n\n#sk-container-id-2 div.sk-toggleable {\n  /* Default theme specific background. It is overwritten whether we have a\n  specific estimator or a Pipeline/ColumnTransformer */\n  background-color: var(--sklearn-color-background);\n}\n\n/* Toggleable label */\n#sk-container-id-2 label.sk-toggleable__label {\n  cursor: pointer;\n  display: block;\n  width: 100%;\n  margin-bottom: 0;\n  padding: 0.5em;\n  box-sizing: border-box;\n  text-align: center;\n}\n\n#sk-container-id-2 label.sk-toggleable__label-arrow:before {\n  /* Arrow on the left of the label */\n  content: \"▸\";\n  float: left;\n  margin-right: 0.25em;\n  color: var(--sklearn-color-icon);\n}\n\n#sk-container-id-2 label.sk-toggleable__label-arrow:hover:before {\n  color: var(--sklearn-color-text);\n}\n\n/* Toggleable content - dropdown */\n\n#sk-container-id-2 div.sk-toggleable__content {\n  max-height: 0;\n  max-width: 0;\n  overflow: hidden;\n  text-align: left;\n  /* unfitted */\n  background-color: var(--sklearn-color-unfitted-level-0);\n}\n\n#sk-container-id-2 div.sk-toggleable__content.fitted {\n  /* fitted */\n  background-color: var(--sklearn-color-fitted-level-0);\n}\n\n#sk-container-id-2 div.sk-toggleable__content pre {\n  margin: 0.2em;\n  border-radius: 0.25em;\n  color: var(--sklearn-color-text);\n  /* unfitted */\n  background-color: var(--sklearn-color-unfitted-level-0);\n}\n\n#sk-container-id-2 div.sk-toggleable__content.fitted pre {\n  /* unfitted */\n  background-color: var(--sklearn-color-fitted-level-0);\n}\n\n#sk-container-id-2 input.sk-toggleable__control:checked~div.sk-toggleable__content {\n  /* Expand drop-down */\n  max-height: 200px;\n  max-width: 100%;\n  overflow: auto;\n}\n\n#sk-container-id-2 input.sk-toggleable__control:checked~label.sk-toggleable__label-arrow:before {\n  content: \"▾\";\n}\n\n/* Pipeline/ColumnTransformer-specific style */\n\n#sk-container-id-2 div.sk-label input.sk-toggleable__control:checked~label.sk-toggleable__label {\n  color: var(--sklearn-color-text);\n  background-color: var(--sklearn-color-unfitted-level-2);\n}\n\n#sk-container-id-2 div.sk-label.fitted input.sk-toggleable__control:checked~label.sk-toggleable__label {\n  background-color: var(--sklearn-color-fitted-level-2);\n}\n\n/* Estimator-specific style */\n\n/* Colorize estimator box */\n#sk-container-id-2 div.sk-estimator input.sk-toggleable__control:checked~label.sk-toggleable__label {\n  /* unfitted */\n  background-color: var(--sklearn-color-unfitted-level-2);\n}\n\n#sk-container-id-2 div.sk-estimator.fitted input.sk-toggleable__control:checked~label.sk-toggleable__label {\n  /* fitted */\n  background-color: var(--sklearn-color-fitted-level-2);\n}\n\n#sk-container-id-2 div.sk-label label.sk-toggleable__label,\n#sk-container-id-2 div.sk-label label {\n  /* The background is the default theme color */\n  color: var(--sklearn-color-text-on-default-background);\n}\n\n/* On hover, darken the color of the background */\n#sk-container-id-2 div.sk-label:hover label.sk-toggleable__label {\n  color: var(--sklearn-color-text);\n  background-color: var(--sklearn-color-unfitted-level-2);\n}\n\n/* Label box, darken color on hover, fitted */\n#sk-container-id-2 div.sk-label.fitted:hover label.sk-toggleable__label.fitted {\n  color: var(--sklearn-color-text);\n  background-color: var(--sklearn-color-fitted-level-2);\n}\n\n/* Estimator label */\n\n#sk-container-id-2 div.sk-label label {\n  font-family: monospace;\n  font-weight: bold;\n  display: inline-block;\n  line-height: 1.2em;\n}\n\n#sk-container-id-2 div.sk-label-container {\n  text-align: center;\n}\n\n/* Estimator-specific */\n#sk-container-id-2 div.sk-estimator {\n  font-family: monospace;\n  border: 1px dotted var(--sklearn-color-border-box);\n  border-radius: 0.25em;\n  box-sizing: border-box;\n  margin-bottom: 0.5em;\n  /* unfitted */\n  background-color: var(--sklearn-color-unfitted-level-0);\n}\n\n#sk-container-id-2 div.sk-estimator.fitted {\n  /* fitted */\n  background-color: var(--sklearn-color-fitted-level-0);\n}\n\n/* on hover */\n#sk-container-id-2 div.sk-estimator:hover {\n  /* unfitted */\n  background-color: var(--sklearn-color-unfitted-level-2);\n}\n\n#sk-container-id-2 div.sk-estimator.fitted:hover {\n  /* fitted */\n  background-color: var(--sklearn-color-fitted-level-2);\n}\n\n/* Specification for estimator info (e.g. \"i\" and \"?\") */\n\n/* Common style for \"i\" and \"?\" */\n\n.sk-estimator-doc-link,\na:link.sk-estimator-doc-link,\na:visited.sk-estimator-doc-link {\n  float: right;\n  font-size: smaller;\n  line-height: 1em;\n  font-family: monospace;\n  background-color: var(--sklearn-color-background);\n  border-radius: 1em;\n  height: 1em;\n  width: 1em;\n  text-decoration: none !important;\n  margin-left: 1ex;\n  /* unfitted */\n  border: var(--sklearn-color-unfitted-level-1) 1pt solid;\n  color: var(--sklearn-color-unfitted-level-1);\n}\n\n.sk-estimator-doc-link.fitted,\na:link.sk-estimator-doc-link.fitted,\na:visited.sk-estimator-doc-link.fitted {\n  /* fitted */\n  border: var(--sklearn-color-fitted-level-1) 1pt solid;\n  color: var(--sklearn-color-fitted-level-1);\n}\n\n/* On hover */\ndiv.sk-estimator:hover .sk-estimator-doc-link:hover,\n.sk-estimator-doc-link:hover,\ndiv.sk-label-container:hover .sk-estimator-doc-link:hover,\n.sk-estimator-doc-link:hover {\n  /* unfitted */\n  background-color: var(--sklearn-color-unfitted-level-3);\n  color: var(--sklearn-color-background);\n  text-decoration: none;\n}\n\ndiv.sk-estimator.fitted:hover .sk-estimator-doc-link.fitted:hover,\n.sk-estimator-doc-link.fitted:hover,\ndiv.sk-label-container:hover .sk-estimator-doc-link.fitted:hover,\n.sk-estimator-doc-link.fitted:hover {\n  /* fitted */\n  background-color: var(--sklearn-color-fitted-level-3);\n  color: var(--sklearn-color-background);\n  text-decoration: none;\n}\n\n/* Span, style for the box shown on hovering the info icon */\n.sk-estimator-doc-link span {\n  display: none;\n  z-index: 9999;\n  position: relative;\n  font-weight: normal;\n  right: .2ex;\n  padding: .5ex;\n  margin: .5ex;\n  width: min-content;\n  min-width: 20ex;\n  max-width: 50ex;\n  color: var(--sklearn-color-text);\n  box-shadow: 2pt 2pt 4pt #999;\n  /* unfitted */\n  background: var(--sklearn-color-unfitted-level-0);\n  border: .5pt solid var(--sklearn-color-unfitted-level-3);\n}\n\n.sk-estimator-doc-link.fitted span {\n  /* fitted */\n  background: var(--sklearn-color-fitted-level-0);\n  border: var(--sklearn-color-fitted-level-3);\n}\n\n.sk-estimator-doc-link:hover span {\n  display: block;\n}\n\n/* \"?\"-specific style due to the `<a>` HTML tag */\n\n#sk-container-id-2 a.estimator_doc_link {\n  float: right;\n  font-size: 1rem;\n  line-height: 1em;\n  font-family: monospace;\n  background-color: var(--sklearn-color-background);\n  border-radius: 1rem;\n  height: 1rem;\n  width: 1rem;\n  text-decoration: none;\n  /* unfitted */\n  color: var(--sklearn-color-unfitted-level-1);\n  border: var(--sklearn-color-unfitted-level-1) 1pt solid;\n}\n\n#sk-container-id-2 a.estimator_doc_link.fitted {\n  /* fitted */\n  border: var(--sklearn-color-fitted-level-1) 1pt solid;\n  color: var(--sklearn-color-fitted-level-1);\n}\n\n/* On hover */\n#sk-container-id-2 a.estimator_doc_link:hover {\n  /* unfitted */\n  background-color: var(--sklearn-color-unfitted-level-3);\n  color: var(--sklearn-color-background);\n  text-decoration: none;\n}\n\n#sk-container-id-2 a.estimator_doc_link.fitted:hover {\n  /* fitted */\n  background-color: var(--sklearn-color-fitted-level-3);\n}\n</style><div id=\"sk-container-id-2\" class=\"sk-top-container\"><div class=\"sk-text-repr-fallback\"><pre>LogisticRegression(max_iter=50)</pre><b>In a Jupyter environment, please rerun this cell to show the HTML representation or trust the notebook. <br />On GitHub, the HTML representation is unable to render, please try loading this page with nbviewer.org.</b></div><div class=\"sk-container\" hidden><div class=\"sk-item\"><div class=\"sk-estimator fitted sk-toggleable\"><input class=\"sk-toggleable__control sk-hidden--visually\" id=\"sk-estimator-id-2\" type=\"checkbox\" checked><label for=\"sk-estimator-id-2\" class=\"sk-toggleable__label fitted sk-toggleable__label-arrow fitted\">&nbsp;&nbsp;LogisticRegression<a class=\"sk-estimator-doc-link fitted\" rel=\"noreferrer\" target=\"_blank\" href=\"https://scikit-learn.org/1.5/modules/generated/sklearn.linear_model.LogisticRegression.html\">?<span>Documentation for LogisticRegression</span></a><span class=\"sk-estimator-doc-link fitted\">i<span>Fitted</span></span></label><div class=\"sk-toggleable__content fitted\"><pre>LogisticRegression(max_iter=50)</pre></div> </div></div></div></div>"
     },
     "execution_count": 6,
     "metadata": {},
     "output_type": "execute_result"
    }
   ],
   "source": [
    "from sklearn.linear_model import LogisticRegression\n",
    "\n",
    "logr = LogisticRegression(max_iter=50)\n",
    "logr.fit(x, y)"
   ],
   "metadata": {
    "collapsed": false,
    "ExecuteTime": {
     "end_time": "2024-10-21T08:52:36.738784200Z",
     "start_time": "2024-10-21T08:52:36.714910300Z"
    }
   }
  },
  {
   "cell_type": "code",
   "execution_count": 9,
   "outputs": [
    {
     "data": {
      "text/plain": "np.float64(3.253949098950588)"
     },
     "execution_count": 9,
     "metadata": {},
     "output_type": "execute_result"
    }
   ],
   "source": [
    "logr.coef_[0, 0]"
   ],
   "metadata": {
    "collapsed": false,
    "ExecuteTime": {
     "end_time": "2024-10-21T08:53:38.477680800Z",
     "start_time": "2024-10-21T08:53:38.452072700Z"
    }
   }
  },
  {
   "cell_type": "code",
   "execution_count": 10,
   "outputs": [
    {
     "data": {
      "text/plain": "np.float64(0.14273055943579674)"
     },
     "execution_count": 10,
     "metadata": {},
     "output_type": "execute_result"
    }
   ],
   "source": [
    "logr.intercept_[0]"
   ],
   "metadata": {
    "collapsed": false,
    "ExecuteTime": {
     "end_time": "2024-10-21T08:53:55.169373600Z",
     "start_time": "2024-10-21T08:53:55.109378900Z"
    }
   }
  },
  {
   "cell_type": "code",
   "execution_count": 11,
   "outputs": [],
   "source": [
    "df = pd.DataFrame({'x': x.reshape((-1,)), 'y': y})\n",
    "df = df.sort_values(by='x')"
   ],
   "metadata": {
    "collapsed": false,
    "ExecuteTime": {
     "end_time": "2024-10-21T08:54:56.259008600Z",
     "start_time": "2024-10-21T08:54:56.183596900Z"
    }
   }
  },
  {
   "cell_type": "code",
   "execution_count": 12,
   "outputs": [],
   "source": [
    "linear_function = logr.coef_[0, 0] * df.x  + logr.intercept_[0]\n",
    "# Beta_1 * x1 + Beta_0\n",
    "sigmoid = 1 / (1 + np.exp(-linear_function))"
   ],
   "metadata": {
    "collapsed": false,
    "ExecuteTime": {
     "end_time": "2024-10-21T08:57:03.974174300Z",
     "start_time": "2024-10-21T08:57:03.954085400Z"
    }
   }
  },
  {
   "cell_type": "code",
   "execution_count": 21,
   "outputs": [
    {
     "data": {
      "text/plain": "array([[9.83805913e-01, 1.61940868e-02],\n       [9.81293767e-01, 1.87062331e-02],\n       [9.80731325e-01, 1.92686750e-02],\n       [9.80139783e-01, 1.98602175e-02],\n       [9.75383203e-01, 2.46167967e-02],\n       [9.72167416e-01, 2.78325836e-02],\n       [9.71354634e-01, 2.86453655e-02],\n       [9.70918213e-01, 2.90817869e-02],\n       [9.69508423e-01, 3.04915770e-02],\n       [9.67792992e-01, 3.22070082e-02],\n       [9.67016013e-01, 3.29839871e-02],\n       [9.64877155e-01, 3.51228455e-02],\n       [9.64288122e-01, 3.57118785e-02],\n       [9.63740493e-01, 3.62595073e-02],\n       [9.62358092e-01, 3.76419081e-02],\n       [9.61708325e-01, 3.82916746e-02],\n       [9.61470054e-01, 3.85299457e-02],\n       [9.60959237e-01, 3.90407625e-02],\n       [9.59721963e-01, 4.02780365e-02],\n       [9.58810641e-01, 4.11893591e-02],\n       [9.57055962e-01, 4.29440380e-02],\n       [9.54741918e-01, 4.52580815e-02],\n       [9.54213761e-01, 4.57862387e-02],\n       [9.52114298e-01, 4.78857024e-02],\n       [9.51909001e-01, 4.80909985e-02],\n       [9.51908597e-01, 4.80914025e-02],\n       [9.50472858e-01, 4.95271424e-02],\n       [9.50234229e-01, 4.97657712e-02],\n       [9.46019180e-01, 5.39808197e-02],\n       [9.45942855e-01, 5.40571449e-02],\n       [9.45879275e-01, 5.41207249e-02],\n       [9.45776151e-01, 5.42238493e-02],\n       [9.43673934e-01, 5.63260660e-02],\n       [9.43160223e-01, 5.68397769e-02],\n       [9.42045032e-01, 5.79549678e-02],\n       [9.42013687e-01, 5.79863133e-02],\n       [9.38446325e-01, 6.15536746e-02],\n       [9.32338149e-01, 6.76618511e-02],\n       [9.28696811e-01, 7.13031888e-02],\n       [9.27082861e-01, 7.29171385e-02],\n       [9.23620124e-01, 7.63798759e-02],\n       [9.20929129e-01, 7.90708706e-02],\n       [9.16624551e-01, 8.33754495e-02],\n       [9.13103576e-01, 8.68964240e-02],\n       [9.12571392e-01, 8.74286081e-02],\n       [9.10237755e-01, 8.97622451e-02],\n       [8.98813331e-01, 1.01186669e-01],\n       [8.96934519e-01, 1.03065481e-01],\n       [8.89226772e-01, 1.10773228e-01],\n       [8.86746804e-01, 1.13253196e-01],\n       [3.61922218e-01, 6.38077782e-01],\n       [3.50885394e-01, 6.49114606e-01],\n       [3.26531010e-01, 6.73468990e-01],\n       [2.80107670e-01, 7.19892330e-01],\n       [1.77683259e-01, 8.22316741e-01],\n       [1.70541225e-01, 8.29458775e-01],\n       [1.63500199e-01, 8.36499801e-01],\n       [1.61800651e-01, 8.38199349e-01],\n       [1.52844257e-01, 8.47155743e-01],\n       [1.49163070e-01, 8.50836930e-01],\n       [1.28950090e-01, 8.71049910e-01],\n       [1.27057326e-01, 8.72942674e-01],\n       [9.19155875e-02, 9.08084413e-01],\n       [7.81005873e-02, 9.21899413e-01],\n       [6.05023535e-02, 9.39497646e-01],\n       [6.04776436e-02, 9.39522356e-01],\n       [6.00390196e-02, 9.39960980e-01],\n       [5.74544545e-02, 9.42545545e-01],\n       [5.72089015e-02, 9.42791099e-01],\n       [5.67553523e-02, 9.43244648e-01],\n       [5.41079211e-02, 9.45892079e-01],\n       [5.09526102e-02, 9.49047390e-01],\n       [3.83787964e-02, 9.61621204e-01],\n       [3.80255043e-02, 9.61974496e-01],\n       [3.77148991e-02, 9.62285101e-01],\n       [3.26905629e-02, 9.67309437e-01],\n       [3.04286096e-02, 9.69571390e-01],\n       [2.85561946e-02, 9.71443805e-01],\n       [2.33748369e-02, 9.76625163e-01],\n       [2.20110243e-02, 9.77988976e-01],\n       [2.14377902e-02, 9.78562210e-01],\n       [1.91252996e-02, 9.80874700e-01],\n       [1.87821342e-02, 9.81217866e-01],\n       [1.81769871e-02, 9.81823013e-01],\n       [1.64135442e-02, 9.83586456e-01],\n       [1.62096682e-02, 9.83790332e-01],\n       [1.38808988e-02, 9.86119101e-01],\n       [1.33328175e-02, 9.86667182e-01],\n       [1.29456117e-02, 9.87054388e-01],\n       [1.26827596e-02, 9.87317240e-01],\n       [1.03192134e-02, 9.89680787e-01],\n       [9.74807947e-03, 9.90251921e-01],\n       [9.31898834e-03, 9.90681012e-01],\n       [7.69976772e-03, 9.92300232e-01],\n       [7.28663889e-03, 9.92713361e-01],\n       [4.50756733e-03, 9.95492433e-01],\n       [3.83397330e-03, 9.96166027e-01],\n       [2.36776608e-03, 9.97632234e-01],\n       [9.19109028e-04, 9.99080891e-01],\n       [2.93167518e-04, 9.99706832e-01]])"
     },
     "execution_count": 21,
     "metadata": {},
     "output_type": "execute_result"
    }
   ],
   "source": [
    "logr.predict_proba(df.x.to_numpy().reshape((-1, 1)))"
   ],
   "metadata": {
    "collapsed": false,
    "ExecuteTime": {
     "end_time": "2024-10-21T09:03:16.614267200Z",
     "start_time": "2024-10-21T09:03:16.588564400Z"
    }
   }
  },
  {
   "cell_type": "code",
   "execution_count": 18,
   "outputs": [
    {
     "data": {
      "text/plain": "array([[9.70918213e-01, 2.90817869e-02],\n       [8.96934519e-01, 1.03065481e-01],\n       [1.77683259e-01, 8.22316741e-01],\n       [9.10237755e-01, 8.97622451e-02],\n       [9.69508423e-01, 3.04915770e-02],\n       [3.04286096e-02, 9.69571390e-01],\n       [6.00390196e-02, 9.39960980e-01],\n       [9.80139783e-01, 1.98602175e-02],\n       [1.81769871e-02, 9.81823013e-01],\n       [6.04776436e-02, 9.39522356e-01],\n       [5.74544545e-02, 9.42545545e-01],\n       [1.70541225e-01, 8.29458775e-01],\n       [2.20110243e-02, 9.77988976e-01],\n       [1.52844257e-01, 8.47155743e-01],\n       [1.28950090e-01, 8.71049910e-01],\n       [1.64135442e-02, 9.83586456e-01],\n       [7.28663889e-03, 9.92713361e-01],\n       [9.51908597e-01, 4.80914025e-02],\n       [9.45942855e-01, 5.40571449e-02],\n       [7.69976772e-03, 9.92300232e-01],\n       [1.33328175e-02, 9.86667182e-01],\n       [9.67792992e-01, 3.22070082e-02],\n       [1.26827596e-02, 9.87317240e-01],\n       [3.26905629e-02, 9.67309437e-01],\n       [1.27057326e-01, 8.72942674e-01],\n       [5.72089015e-02, 9.42791099e-01],\n       [5.67553523e-02, 9.43244648e-01],\n       [3.83787964e-02, 9.61621204e-01],\n       [1.62096682e-02, 9.83790332e-01],\n       [9.52114298e-01, 4.78857024e-02],\n       [9.42013687e-01, 5.79863133e-02],\n       [8.86746804e-01, 1.13253196e-01],\n       [5.09526102e-02, 9.49047390e-01],\n       [9.19109028e-04, 9.99080891e-01],\n       [9.27082861e-01, 7.29171385e-02],\n       [9.64877155e-01, 3.51228455e-02],\n       [8.98813331e-01, 1.01186669e-01],\n       [3.50885394e-01, 6.49114606e-01],\n       [9.45879275e-01, 5.41207249e-02],\n       [8.89226772e-01, 1.10773228e-01],\n       [9.43160223e-01, 5.68397769e-02],\n       [9.71354634e-01, 2.86453655e-02],\n       [9.67016013e-01, 3.29839871e-02],\n       [9.13103576e-01, 8.68964240e-02],\n       [9.20929129e-01, 7.90708706e-02],\n       [9.81293767e-01, 1.87062331e-02],\n       [9.62358092e-01, 3.76419081e-02],\n       [1.03192134e-02, 9.89680787e-01],\n       [2.93167518e-04, 9.99706832e-01],\n       [9.31898834e-03, 9.90681012e-01],\n       [2.33748369e-02, 9.76625163e-01],\n       [1.61800651e-01, 8.38199349e-01],\n       [9.42045032e-01, 5.79549678e-02],\n       [9.16624551e-01, 8.33754495e-02],\n       [2.36776608e-03, 9.97632234e-01],\n       [3.61922218e-01, 6.38077782e-01],\n       [9.54741918e-01, 4.52580815e-02],\n       [9.45776151e-01, 5.42238493e-02],\n       [1.91252996e-02, 9.80874700e-01],\n       [9.61470054e-01, 3.85299457e-02],\n       [7.81005873e-02, 9.21899413e-01],\n       [9.59721963e-01, 4.02780365e-02],\n       [9.54213761e-01, 4.57862387e-02],\n       [9.60959237e-01, 3.90407625e-02],\n       [9.23620124e-01, 7.63798759e-02],\n       [2.80107670e-01, 7.19892330e-01],\n       [9.58810641e-01, 4.11893591e-02],\n       [9.46019180e-01, 5.39808197e-02],\n       [3.80255043e-02, 9.61974496e-01],\n       [1.29456117e-02, 9.87054388e-01],\n       [3.26531010e-01, 6.73468990e-01],\n       [3.77148991e-02, 9.62285101e-01],\n       [1.87821342e-02, 9.81217866e-01],\n       [9.19155875e-02, 9.08084413e-01],\n       [9.43673934e-01, 5.63260660e-02],\n       [9.63740493e-01, 3.62595073e-02],\n       [2.85561946e-02, 9.71443805e-01],\n       [9.57055962e-01, 4.29440380e-02],\n       [9.83805913e-01, 1.61940868e-02],\n       [4.50756733e-03, 9.95492433e-01],\n       [1.63500199e-01, 8.36499801e-01],\n       [9.74807947e-03, 9.90251921e-01],\n       [1.49163070e-01, 8.50836930e-01],\n       [9.12571392e-01, 8.74286081e-02],\n       [9.61708325e-01, 3.82916746e-02],\n       [9.51909001e-01, 4.80909985e-02],\n       [9.38446325e-01, 6.15536746e-02],\n       [9.50472858e-01, 4.95271424e-02],\n       [9.50234229e-01, 4.97657712e-02],\n       [9.28696811e-01, 7.13031888e-02],\n       [9.64288122e-01, 3.57118785e-02],\n       [2.14377902e-02, 9.78562210e-01],\n       [9.72167416e-01, 2.78325836e-02],\n       [9.80731325e-01, 1.92686750e-02],\n       [9.32338149e-01, 6.76618511e-02],\n       [9.75383203e-01, 2.46167967e-02],\n       [1.38808988e-02, 9.86119101e-01],\n       [6.05023535e-02, 9.39497646e-01],\n       [5.41079211e-02, 9.45892079e-01],\n       [3.83397330e-03, 9.96166027e-01]])"
     },
     "execution_count": 18,
     "metadata": {},
     "output_type": "execute_result"
    }
   ],
   "source": [
    "logr.predict_proba(x)"
   ],
   "metadata": {
    "collapsed": false,
    "ExecuteTime": {
     "end_time": "2024-10-21T09:00:35.377563900Z",
     "start_time": "2024-10-21T09:00:35.339350200Z"
    }
   }
  },
  {
   "cell_type": "code",
   "execution_count": 19,
   "outputs": [
    {
     "data": {
      "text/plain": "array([[-1.12197843],\n       [-0.70878456],\n       [ 0.42698657],\n       [-0.7557807 ],\n       [-1.10698389],\n       [ 1.01991155],\n       [ 0.80152241],\n       [-1.24209292],\n       [ 1.1821095 ],\n       [ 0.79914197],\n       [ 0.81588896],\n       [ 0.44225209],\n       [ 1.1220902 ],\n       [ 0.48240906],\n       [ 0.54319943],\n       [ 1.21402272],\n       [ 1.46642399],\n       [-0.96132302],\n       [-0.9234536 ],\n       [ 1.44934812],\n       [ 1.27886873],\n       [-1.08961898],\n       [ 1.29443245],\n       [ 0.99715802],\n       [ 0.54841084],\n       [ 0.81728527],\n       [ 0.81987919],\n       [ 0.94604581],\n       [ 1.21792759],\n       [-0.96270672],\n       [-0.90061131],\n       [-0.67630562],\n       [ 0.85490956],\n       [ 2.10465976],\n       [-0.82528943],\n       [-1.06205704],\n       [-0.71508153],\n       [ 0.1451833 ],\n       [-0.92307169],\n       [-0.68396821],\n       [-0.90712247],\n       [-1.12676333],\n       [-1.08204625],\n       [-0.76671851],\n       [-0.7983435 ],\n       [-1.2608512 ],\n       [-1.03996684],\n       [ 1.35854748],\n       [ 2.45601341],\n       [ 1.39019014],\n       [ 1.10318636],\n       [ 0.46164225],\n       [-0.90078771],\n       [-0.78061289],\n       [ 1.81339875],\n       [ 0.1303955 ],\n       [-0.98089745],\n       [-0.92245316],\n       [ 1.16618361],\n       [-1.03251714],\n       [ 0.71473398],\n       [-1.01832197],\n       [-0.97716178],\n       [-1.02830627],\n       [-0.80988119],\n       [ 0.24622298],\n       [-1.01115417],\n       [-0.92391261],\n       [ 0.94900079],\n       [ 1.28804649],\n       [ 0.17860958],\n       [ 0.9516206 ],\n       [ 1.17185541],\n       [ 0.66003987],\n       [-0.91007995],\n       [-1.05190674],\n       [ 1.0400221 ],\n       [-0.99777056],\n       [-1.30595559],\n       [ 1.6148837 ],\n       [ 0.45780726],\n       [ 1.37622267],\n       [ 0.4912338 ],\n       [-0.76466295],\n       [-1.03449967],\n       [-0.96132573],\n       [-0.88109758],\n       [-0.95181861],\n       [-0.9502643 ],\n       [-0.83270259],\n       [-1.05675818],\n       [ 1.13037986],\n       [-1.13586632],\n       [-1.25157102],\n       [-0.8500144 ],\n       [-1.17461333],\n       [ 1.26631756],\n       [ 0.79900835],\n       [ 0.83542098],\n       [ 1.66483296]])"
     },
     "execution_count": 19,
     "metadata": {},
     "output_type": "execute_result"
    }
   ],
   "source": [
    "x"
   ],
   "metadata": {
    "collapsed": false,
    "ExecuteTime": {
     "end_time": "2024-10-21T09:01:10.459702600Z",
     "start_time": "2024-10-21T09:01:10.438556400Z"
    }
   }
  },
  {
   "cell_type": "code",
   "execution_count": 25,
   "outputs": [
    {
     "data": {
      "text/plain": "<Figure size 640x480 with 1 Axes>",
      "image/png": "[encoded data removed]"
     },
     "metadata": {},
     "output_type": "display_data"
    }
   ],
   "source": [
    "plt.plot(df.x, sigmoid, marker=\"^\")\n",
    "plt.scatter(x, y, c=y, cmap=\"coolwarm\")\n",
    "plt.show()"
   ],
   "metadata": {
    "collapsed": false,
    "ExecuteTime": {
     "end_time": "2024-10-21T09:04:39.114159600Z",
     "start_time": "2024-10-21T09:04:38.982626500Z"
    }
   }
  },
  {
   "cell_type": "code",
   "execution_count": 26,
   "outputs": [],
   "source": [
    "from sklearn.metrics import confusion_matrix, accuracy_score, recall_score, precision_score, roc_auc_score, roc_curve"
   ],
   "metadata": {
    "collapsed": false,
    "ExecuteTime": {
     "end_time": "2024-10-21T09:06:30.509217400Z",
     "start_time": "2024-10-21T09:06:30.480661700Z"
    }
   }
  },
  {
   "cell_type": "code",
   "execution_count": 28,
   "outputs": [
    {
     "data": {
      "text/plain": "array([0, 0, 1, 0, 0, 1, 1, 0, 1, 1, 1, 1, 1, 1, 1, 1, 1, 0, 0, 1, 1, 0,\n       1, 1, 1, 1, 1, 1, 1, 0, 0, 0, 1, 1, 0, 0, 0, 1, 0, 0, 0, 0, 0, 0,\n       0, 0, 0, 1, 1, 1, 1, 1, 0, 0, 1, 1, 0, 0, 1, 0, 1, 0, 0, 0, 0, 1,\n       0, 0, 1, 1, 1, 1, 1, 1, 0, 0, 1, 0, 0, 1, 1, 1, 1, 0, 0, 0, 0, 0,\n       0, 0, 0, 1, 0, 0, 0, 0, 1, 1, 1, 1])"
     },
     "execution_count": 28,
     "metadata": {},
     "output_type": "execute_result"
    }
   ],
   "source": [
    "y_pred = logr.predict(x)\n",
    "y_pred"
   ],
   "metadata": {
    "collapsed": false,
    "ExecuteTime": {
     "end_time": "2024-10-21T09:09:37.986728Z",
     "start_time": "2024-10-21T09:09:37.964058500Z"
    }
   }
  },
  {
   "cell_type": "code",
   "execution_count": 30,
   "outputs": [
    {
     "data": {
      "text/plain": "array([[50,  0],\n       [ 1, 49]])"
     },
     "execution_count": 30,
     "metadata": {},
     "output_type": "execute_result"
    }
   ],
   "source": [
    "cm = confusion_matrix(y, y_pred).T\n",
    "cm"
   ],
   "metadata": {
    "collapsed": false,
    "ExecuteTime": {
     "end_time": "2024-10-21T09:10:59.306446200Z",
     "start_time": "2024-10-21T09:10:59.282884700Z"
    }
   }
  },
  {
   "cell_type": "code",
   "execution_count": 31,
   "outputs": [],
   "source": [
    "RN, FN = cm[0]\n",
    "FP, RP = cm[1]"
   ],
   "metadata": {
    "collapsed": false,
    "ExecuteTime": {
     "end_time": "2024-10-21T09:11:40.426393Z",
     "start_time": "2024-10-21T09:11:40.376210500Z"
    }
   }
  },
  {
   "cell_type": "code",
   "execution_count": 38,
   "outputs": [
    {
     "name": "stdout",
     "output_type": "stream",
     "text": [
      "Korrektklassifikationsrate 0.99 0.99\n",
      "Klassifikationsfehler 0.01\n"
     ]
    }
   ],
   "source": [
    "print(\"Korrektklassifikationsrate\", (RN + RP) / np.sum(cm), accuracy_score(y, y_pred))\n",
    "print(\"Klassifikationsfehler\", (FN + FP) / np.sum(cm))"
   ],
   "metadata": {
    "collapsed": false,
    "ExecuteTime": {
     "end_time": "2024-10-21T09:15:18.702160100Z",
     "start_time": "2024-10-21T09:15:18.678549100Z"
    }
   }
  },
  {
   "cell_type": "code",
   "execution_count": 41,
   "outputs": [
    {
     "name": "stdout",
     "output_type": "stream",
     "text": [
      "Sensitivität 1.0 1.0\n",
      "Spezifität 0.9803921568627451\n",
      "Präzision 0.98 0.98\n"
     ]
    }
   ],
   "source": [
    "print(\"Sensitivität\", RP / (RP + FN), recall_score(y, y_pred))\n",
    "print(\"Spezifität\", RN / (RN + FP))\n",
    "print(\"Präzision\", RP / (RP + FP), precision_score(y, y_pred))"
   ],
   "metadata": {
    "collapsed": false,
    "ExecuteTime": {
     "end_time": "2024-10-21T09:16:35.557077Z",
     "start_time": "2024-10-21T09:16:35.536465Z"
    }
   }
  },
  {
   "cell_type": "code",
   "execution_count": 42,
   "outputs": [],
   "source": [
    "fpr, tpr, threshold = roc_curve(df.y, sigmoid)"
   ],
   "metadata": {
    "collapsed": false,
    "ExecuteTime": {
     "end_time": "2024-10-21T09:18:16.484855800Z",
     "start_time": "2024-10-21T09:18:16.375279100Z"
    }
   }
  },
  {
   "cell_type": "code",
   "execution_count": 46,
   "outputs": [
    {
     "data": {
      "text/plain": "<Figure size 640x480 with 1 Axes>",
      "image/png": "[encoded data removed]"
     },
     "metadata": {},
     "output_type": "display_data"
    }
   ],
   "source": [
    "plt.step(fpr, tpr)\n",
    "plt.text(0.6, 0.8, \"AUC\", fontdict=dict(fontsize=18))\n",
    "plt.show()"
   ],
   "metadata": {
    "collapsed": false,
    "ExecuteTime": {
     "end_time": "2024-10-21T09:20:15.897250200Z",
     "start_time": "2024-10-21T09:20:15.789427200Z"
    }
   }
  },
  {
   "cell_type": "code",
   "execution_count": 44,
   "outputs": [
    {
     "data": {
      "text/plain": "np.float64(0.9901960784313725)"
     },
     "execution_count": 44,
     "metadata": {},
     "output_type": "execute_result"
    }
   ],
   "source": [
    "roc_auc_score(y, y_pred)"
   ],
   "metadata": {
    "collapsed": false,
    "ExecuteTime": {
     "end_time": "2024-10-21T09:19:19.570260700Z",
     "start_time": "2024-10-21T09:19:19.518621300Z"
    }
   }
  },
  {
   "cell_type": "code",
   "execution_count": 47,
   "outputs": [
    {
     "name": "stdout",
     "output_type": "stream",
     "text": [
      "YoudenIndex 0.9803921568627452\n"
     ]
    }
   ],
   "source": [
    "print(\"YoudenIndex\", RP / (RP + FN) + RN / (RN + FP) - 1)"
   ],
   "metadata": {
    "collapsed": false,
    "ExecuteTime": {
     "end_time": "2024-10-21T09:22:05.634433800Z",
     "start_time": "2024-10-21T09:22:05.540928800Z"
    }
   }
  },
  {
   "cell_type": "code",
   "execution_count": 50,
   "outputs": [],
   "source": [
    "youd_indexes = []\n",
    "for threshold in [0.1, 0.6, 0.8]:\n",
    "    y_pred = [1 if s > threshold else 0 for s in sigmoid]\n",
    "    cm = confusion_matrix(df.y, y_pred).T\n",
    "    RN, FN = cm[0]\n",
    "    FP, RP = cm[1]\n",
    "    recall = RP / (RP + FN)\n",
    "    speciality = RN / (RN + FP)\n",
    "    youdenIdx = recall + speciality - 1\n",
    "    youd_indexes.append(youdenIdx)"
   ],
   "metadata": {
    "collapsed": false,
    "ExecuteTime": {
     "end_time": "2024-10-21T09:28:32.485645900Z",
     "start_time": "2024-10-21T09:28:32.460373900Z"
    }
   }
  },
  {
   "cell_type": "code",
   "execution_count": 53,
   "outputs": [
    {
     "data": {
      "text/plain": "[(np.float64(0.9019607843137254), 0.1),\n (np.float64(0.9803921568627452), 0.6),\n (np.float64(0.8987595038015206), 0.8)]"
     },
     "execution_count": 53,
     "metadata": {},
     "output_type": "execute_result"
    }
   ],
   "source": [
    "list(zip(youd_indexes, [0.1, 0.6, 0.8]))"
   ],
   "metadata": {
    "collapsed": false,
    "ExecuteTime": {
     "end_time": "2024-10-21T09:29:01.561126200Z",
     "start_time": "2024-10-21T09:29:01.531260100Z"
    }
   }
  },
  {
   "cell_type": "code",
   "execution_count": null,
   "outputs": [],
   "source": [],
   "metadata": {
    "collapsed": false
   }
  }
 ],
 "metadata": {
  "kernelspec": {
   "display_name": "Python 3",
   "language": "python",
   "name": "python3"
  },
  "language_info": {
   "codemirror_mode": {
    "name": "ipython",
    "version": 2
   },
   "file_extension": ".py",
   "mimetype": "text/x-python",
   "name": "python",
   "nbconvert_exporter": "python",
   "pygments_lexer": "ipython2",
   "version": "2.7.6"
  }
 },
 "nbformat": 4,
 "nbformat_minor": 0
}
