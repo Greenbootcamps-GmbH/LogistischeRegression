{
 "cells": [
  {
   "cell_type": "markdown",
   "source": [
    "# Übung"
   ],
   "metadata": {
    "collapsed": false
   }
  },
  {
   "cell_type": "markdown",
   "source": [
    "In dieser Übung geht es um ein kleines EDA Projekt mit dem Titanic Datensatz\n",
    "https://www.kaggle.com/datasets/azeembootwala/titanic\n",
    "\n",
    "- Landen Sie Daten\n",
    "- Führen Sie eine Univariate EDA durch\n",
    "- Führen Sie eine Multivariate EDA durch und entscheiden Sie, welche Einflussgröße am wichtigsten sind\n",
    "- Trennen Sie Daten in train und test Datensätze\n",
    "- Trainieren Sie LogisticRegression Modell aus scikit-learn und evaluieren Sie es anhand des test Datensatzes\n"
   ],
   "metadata": {
    "collapsed": false
   }
  },
  {
   "cell_type": "markdown",
   "source": [
    "Evaluierung muss folgende Elemente enthalten:\n",
    "\n",
    "- Korrektklassifikationsrate\n",
    "- Sensitivität\n",
    "- Spezifität\n",
    "- AUC\n",
    "- ROC Kurve"
   ],
   "metadata": {
    "collapsed": false
   }
  },
  {
   "cell_type": "code",
   "execution_count": null,
   "outputs": [],
   "source": [],
   "metadata": {
    "collapsed": false
   }
  }
 ],
 "metadata": {
  "kernelspec": {
   "display_name": "Python 3",
   "language": "python",
   "name": "python3"
  },
  "language_info": {
   "codemirror_mode": {
    "name": "ipython",
    "version": 2
   },
   "file_extension": ".py",
   "mimetype": "text/x-python",
   "name": "python",
   "nbconvert_exporter": "python",
   "pygments_lexer": "ipython2",
   "version": "2.7.6"
  }
 },
 "nbformat": 4,
 "nbformat_minor": 0
}
